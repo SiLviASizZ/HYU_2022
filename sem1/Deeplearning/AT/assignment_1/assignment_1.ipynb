{
  "nbformat": 4,
  "nbformat_minor": 0,
  "metadata": {
    "colab": {
      "name": "assignment_1.ipynb",
      "provenance": [],
      "collapsed_sections": []
    },
    "kernelspec": {
      "name": "python3",
      "display_name": "Python 3"
    },
    "language_info": {
      "name": "python"
    }
  },
  "cells": [
    {
      "cell_type": "code",
      "source": [
        "import torch\n",
        "import torch.nn as nn\n",
        "\n",
        "import torchvision\n",
        "import torchvision.transforms as transforms\n",
        "\n",
        "# 미리 작성된 코드들은 수정할 수 없으며, 이외의 코드를 작성하시면 됩니다.\n",
        "\n",
        "torch.manual_seed(0)\n",
        "torch.cuda.manual_seed(0)\n",
        "torch.cuda.manual_seed_all(0)\n",
        "\n",
        "\n",
        "class Classifier(nn.Module):\n",
        "    # 모델의 코드는 여기서 작성해주세요\n",
        "\n",
        "    def __init__(self):\n",
        "        super(Classifier, self).__init__()\n",
        "\n",
        "    def forward(self, x):\n",
        "\n",
        "        return output\n",
        "\n",
        "\n",
        "if __name__ == \"__main__\":\n",
        "    # 학습코드는 모두 여기서 작성해주세요\n",
        "\n",
        "    train_dataset = torchvision.datasets.CIFAR10(root=\"CIFAR10/\",\n",
        "                                                 train=True,\n",
        "                                                 transform=transforms.ToTensor(),\n",
        "                                                 download=True)\n",
        "    test_dataset = torchvision.datasets.CIFAR10(root=\"CIFAR10/\",\n",
        "                                                train=False,\n",
        "                                                transform=transforms.ToTensor(),\n",
        "                                                download=True)\n",
        "\n",
        "    model = Classifier()\n",
        "\n",
        "    #===================================\n",
        "    #            train code \n",
        "    #===================================\n",
        "\n",
        "    torch.save(model.state_dict(), 'model.pt')  # 학습된 모델을 저장하는 코드입니다.\n"
      ],
      "metadata": {
        "id": "zifx8uJqvK24",
        "colab": {
          "base_uri": "https://localhost:8080/"
        },
        "outputId": "1d1d2c07-95ec-48e3-8465-214c96a685f3"
      },
      "execution_count": 8,
      "outputs": [
        {
          "output_type": "stream",
          "name": "stdout",
          "text": [
            "Files already downloaded and verified\n",
            "Files already downloaded and verified\n"
          ]
        }
      ]
    },
    {
      "cell_type": "code",
      "execution_count": null,
      "metadata": {
        "id": "r1BHoIEivAIf"
      },
      "outputs": [],
      "source": [
        "# 학습된 모델의 성능을 평가하는 코드입니다.\n",
        "# 아래의 코드로 평가를 진행할 예정이므로 아래의 코드가 정상 동작 해야하며, 제출전 모델의 성능을 확인하시면 됩니다.\n",
        "\n",
        "device = torch.device(\"cuda:0\" if torch.cuda.is_available() else \"cpu\")\n",
        "\n",
        "test_dataset = torchvision.datasets.CIFAR10(root=\"CIFAR10/\",\n",
        "                                            train=False,\n",
        "                                            transform=transforms.ToTensor(),\n",
        "                                            download=True)\n",
        "\n",
        "\n",
        "test_dataloader = torch.utils.data.DataLoader(test_dataset, batch_size=10000)\n",
        "\n",
        "classifier = Classifier().to(device)\n",
        "classifier.load_state_dict(torch.load('model.pt'))\n",
        "classifier.eval()\n",
        "\n",
        "\n",
        "for data, label in test_dataloader:\n",
        "    data = data.view(-1, 32 * 32 * 3).to(device)\n",
        "\n",
        "    with torch.no_grad():\n",
        "        logits = classifier(data)\n",
        "\n",
        "        pred = torch.argmax(logits, dim=1)\n",
        "\n",
        "        total = len(label)\n",
        "        correct = torch.eq(pred, label.to(device)).sum()\n",
        "\n",
        "        print(\"Accuracy on test set : {:.4f}%\".format(100 * correct / total))"
      ]
    }
  ]
}